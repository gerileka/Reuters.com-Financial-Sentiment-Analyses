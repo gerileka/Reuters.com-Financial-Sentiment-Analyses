{
 "cells": [
  {
   "cell_type": "code",
   "execution_count": 2,
   "metadata": {
    "ExecuteTime": {
     "end_time": "2020-06-28T17:42:22.887791Z",
     "start_time": "2020-06-28T17:42:22.878775Z"
    }
   },
   "outputs": [],
   "source": [
    "from Link_function import get_links"
   ]
  },
  {
   "cell_type": "code",
   "execution_count": 4,
   "metadata": {
    "ExecuteTime": {
     "end_time": "2020-06-28T17:42:56.772002Z",
     "start_time": "2020-06-28T17:42:56.426322Z"
    }
   },
   "outputs": [
    {
     "name": "stdout",
     "output_type": "stream",
     "text": [
      "https://www.reuters.com/news/archive/bank-news?view=page&page=1&pageSize=10\n",
      "https://www.reuters.com/news/archive/bank-news?view=page&page=2&pageSize=10\n",
      "https://www.reuters.com/news/archive/bank-news?view=page&page=3&pageSize=10\n",
      "https://www.reuters.com/news/archive/bank-news?view=page&page=4&pageSize=10\n"
     ]
    }
   ],
   "source": [
    "news_url = get_links(pages=5)"
   ]
  },
  {
   "cell_type": "code",
   "execution_count": 7,
   "metadata": {
    "ExecuteTime": {
     "end_time": "2020-06-28T17:49:16.618222Z",
     "start_time": "2020-06-28T17:49:16.612202Z"
    }
   },
   "outputs": [
    {
     "data": {
      "text/plain": [
       "'https://www.reuters.com/article/us-ubi-m-a-intesa-sanpaolo/intesa-maintains-profit-goal-even-if-unable-to-merge-with-ubi-idUSKBN23X26F'"
      ]
     },
     "execution_count": 7,
     "metadata": {},
     "output_type": "execute_result"
    }
   ],
   "source": [
    "url = news_url[1]\n",
    "url"
   ]
  },
  {
   "cell_type": "code",
   "execution_count": null,
   "metadata": {},
   "outputs": [],
   "source": []
  }
 ],
 "metadata": {
  "kernelspec": {
   "display_name": "Python 3",
   "language": "python",
   "name": "python3"
  },
  "language_info": {
   "codemirror_mode": {
    "name": "ipython",
    "version": 3
   },
   "file_extension": ".py",
   "mimetype": "text/x-python",
   "name": "python",
   "nbconvert_exporter": "python",
   "pygments_lexer": "ipython3",
   "version": "3.7.3"
  },
  "latex_envs": {
   "LaTeX_envs_menu_present": true,
   "autoclose": false,
   "autocomplete": true,
   "bibliofile": "biblio.bib",
   "cite_by": "apalike",
   "current_citInitial": 1,
   "eqLabelWithNumbers": true,
   "eqNumInitial": 1,
   "hotkeys": {
    "equation": "Ctrl-E",
    "itemize": "Ctrl-I"
   },
   "labels_anchors": false,
   "latex_user_defs": false,
   "report_style_numbering": false,
   "user_envs_cfg": false
  }
 },
 "nbformat": 4,
 "nbformat_minor": 2
}
